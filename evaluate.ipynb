{
 "cells": [
  {
   "cell_type": "code",
   "execution_count": 1,
   "outputs": [],
   "source": [
    "from time import perf_counter as now\n",
    "\n",
    "from rest import build_tempo_spatial_index, base_query\n",
    "from utilities import dataset\n",
    "from utilities.box2D import Box2D\n",
    "from utilities.config import config\n",
    "from utilities.data_preprocessing import traj_data, gen_border"
   ],
   "metadata": {
    "collapsed": false,
    "ExecuteTime": {
     "end_time": "2023-12-28T01:49:18.744185439Z",
     "start_time": "2023-12-28T01:49:16.083848732Z"
    }
   }
  },
  {
   "cell_type": "code",
   "execution_count": 2,
   "outputs": [],
   "source": [
    "import os\n",
    "import dill\n",
    "\n",
    "def get_index(file_name, grid_space):\n",
    "    base = os.path.basename(file_name).split('.')\n",
    "    traj_fname = f'resource/{base[0]}_traj.pkl'\n",
    "    if os.path.exists(traj_fname):\n",
    "        with open(traj_fname, 'rb') as f:\n",
    "            trajs = dill.load(f)\n",
    "    else:\n",
    "        data, cols, cls_map = dataset.load_yolo_for(file_name)\n",
    "        trajs = traj_data(data, cols, 5, cls_map, scale=1)\n",
    "        with open(traj_fname, 'wb') as f:\n",
    "            dill.dump(trajs, f)\n",
    "    broders = gen_border(trajs.bbox, *grid_space)\n",
    "    config.gird_border = broders\n",
    "    temp_spt = build_tempo_spatial_index(trajs)\n",
    "    return temp_spt\n",
    "\n",
    "filename = '/home/lg/VDBM/spatiotemporal/resource/dataset/traj_taipei_0412.pkl'"
   ],
   "metadata": {
    "collapsed": false,
    "ExecuteTime": {
     "end_time": "2023-12-28T01:49:21.236859677Z",
     "start_time": "2023-12-28T01:49:21.077161635Z"
    }
   }
  },
  {
   "cell_type": "code",
   "execution_count": null,
   "outputs": [],
   "source": [
    "tempo_spat = get_index(filename, (8,6))"
   ],
   "metadata": {
    "collapsed": false
   }
  },
  {
   "cell_type": "code",
   "execution_count": 3,
   "outputs": [],
   "source": [
    "tempo_spat = get_index(filename, (2,2))"
   ],
   "metadata": {
    "collapsed": false,
    "ExecuteTime": {
     "end_time": "2023-12-28T01:49:42.043248787Z",
     "start_time": "2023-12-28T01:49:31.988010211Z"
    }
   }
  },
  {
   "cell_type": "code",
   "execution_count": 4,
   "outputs": [
    {
     "data": {
      "text/plain": "(array([   0, 1275, 1276]), array([  0, 712, 713]))"
     },
     "execution_count": 4,
     "metadata": {},
     "output_type": "execute_result"
    }
   ],
   "source": [
    "tempo_spat[0]._outer._outer.borders"
   ],
   "metadata": {
    "collapsed": false,
    "ExecuteTime": {
     "end_time": "2023-12-28T01:49:45.985996525Z",
     "start_time": "2023-12-28T01:49:45.897829072Z"
    }
   }
  },
  {
   "cell_type": "code",
   "execution_count": 5,
   "outputs": [],
   "source": [
    "label = {0:1}\n",
    "interval = 0, 60*60*30\n",
    "duration = 10, 100"
   ],
   "metadata": {
    "collapsed": false,
    "ExecuteTime": {
     "end_time": "2023-12-28T01:49:49.087819814Z",
     "start_time": "2023-12-28T01:49:49.038369821Z"
    }
   }
  },
  {
   "cell_type": "code",
   "execution_count": 6,
   "outputs": [],
   "source": [
    "region = Box2D((546, 727, 427, 569))\n",
    "count = 0\n",
    "start = now()\n",
    "for _ in base_query(tempo_spat, region, label, duration, interval):\n",
    "    count += 1\n",
    "end = now()"
   ],
   "metadata": {
    "collapsed": false,
    "ExecuteTime": {
     "end_time": "2023-12-28T01:49:51.948440186Z",
     "start_time": "2023-12-28T01:49:51.647689386Z"
    }
   }
  },
  {
   "cell_type": "code",
   "execution_count": 356,
   "outputs": [
    {
     "name": "stdout",
     "output_type": "stream",
     "text": [
      "result count: 531 using 0.3478171930000826 s\n"
     ]
    }
   ],
   "source": [
    "region = Box2D((3277, 3553, 1426, 1667))\n",
    "# region = Box2D((0, 3840, 0, 2160))\n",
    "# label = {0: 1, 2: 1, 1: 1, 3: 1, 5: 1, 7: 1}\n",
    "\n",
    "\n",
    "start = now()\n",
    "for _ in base_query(tempo_spat, region, label, duration, interval):\n",
    "    count += 1\n",
    "end = now()\n",
    "print('result count:', count, 'using', end - start, 's')"
   ],
   "metadata": {
    "collapsed": false,
    "ExecuteTime": {
     "end_time": "2023-12-22T06:27:32.116230990Z",
     "start_time": "2023-12-22T06:27:31.767893115Z"
    }
   }
  },
  {
   "cell_type": "code",
   "execution_count": 7,
   "outputs": [
    {
     "name": "stdout",
     "output_type": "stream",
     "text": [
      "result count: 5 using 0.3333193680000477 s\n"
     ]
    }
   ],
   "source": [
    "print('result count:', count, 'using', end - start, 's')"
   ],
   "metadata": {
    "collapsed": false,
    "ExecuteTime": {
     "end_time": "2023-12-28T01:49:55.237994581Z",
     "start_time": "2023-12-28T01:49:55.201263242Z"
    }
   }
  }
 ],
 "metadata": {
  "kernelspec": {
   "display_name": "Python 3",
   "language": "python",
   "name": "python3"
  },
  "language_info": {
   "codemirror_mode": {
    "name": "ipython",
    "version": 2
   },
   "file_extension": ".py",
   "mimetype": "text/x-python",
   "name": "python",
   "nbconvert_exporter": "python",
   "pygments_lexer": "ipython2",
   "version": "2.7.6"
  }
 },
 "nbformat": 4,
 "nbformat_minor": 0
}
